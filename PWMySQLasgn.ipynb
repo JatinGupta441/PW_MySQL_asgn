{
 "cells": [
  {
   "cell_type": "code",
   "execution_count": null,
   "id": "1392cb6e",
   "metadata": {},
   "outputs": [],
   "source": [
    "#Q1\n",
    "#Database is a collection of data organised for efficient storage, retrievel and management of the data.\n",
    "#SQL Database: They follow a fixed pre-defined structure. Used to store complex queries.\n",
    "#NOSQL Database: They don't require a defined structure. Usually used for storing real-time data."
   ]
  },
  {
   "cell_type": "code",
   "execution_count": null,
   "id": "7efbe82a",
   "metadata": {},
   "outputs": [],
   "source": [
    "#Q2\n",
    "#Data Defination Language (DDL) is used to define and manage the structure of a database.\n",
    "#Create: it is used to create database objects like table.\n",
    "#Example: CREATE TABLE table1(C1 int, C2 varchar(34), C3 varchar(80));\n",
    "#Drop: it is used to delete database objects.\n",
    "#Eg: DROP TABLE table1;\n",
    "#Alter: it is used to modify database objects.\n",
    "#Eg: ALTER TABLE table1 Add COLUMN C4 int;\n",
    "#Truncate: it deletes all the data from the table while retaining its structure.\n",
    "#TRUNCATE TABLE table1;"
   ]
  },
  {
   "cell_type": "code",
   "execution_count": null,
   "id": "4ca23447",
   "metadata": {},
   "outputs": [],
   "source": [
    "#Q3\n",
    "#Data Manupulation Language (DML) is used to manupulate data in the database.\n",
    "#Insert: used to insert data in a table.\n",
    "#Eg: INSERT INTO table1 values(1, John, DSA)\n",
    "#Update: modiefies the values of the table\n",
    "#Eg: UPDATE table1 SET C1=3 WHERE C3=DSA;\n",
    "#Delete: deletes the values of the table\n",
    "#Eg: DELETE FROM table1 WHERE C3=DSA;"
   ]
  },
  {
   "cell_type": "code",
   "execution_count": null,
   "id": "3f2fb413",
   "metadata": {},
   "outputs": [],
   "source": [
    "#Q4\n",
    "#Data Query Language (DQL) is used to get required filtered data.\n",
    "#Select: it is used to get the defined selected data from the table.\n",
    "#Eg: SELECT * FROM table1;"
   ]
  },
  {
   "cell_type": "code",
   "execution_count": null,
   "id": "8577783a",
   "metadata": {},
   "outputs": [],
   "source": [
    "#Q5\n",
    "#Primary key is a unique identifier for the records in a table.\n",
    "#Foreign key is used to get the primary key data in another table."
   ]
  },
  {
   "cell_type": "code",
   "execution_count": null,
   "id": "77b7d0d9",
   "metadata": {},
   "outputs": [],
   "source": [
    "#Q6\n",
    "\"\"\"import mysql.connector\n",
    "conn=mysql.connector.connect(host=\"local_host\", user=\"user_name\", password=\"user_password\")\n",
    "mycursor=conn.cursor()\n",
    "mycursor.execute(CREATE DATABASE db;)\n",
    "mycursor.close()\"\"\"\n",
    "#cursor object is created through which we execute SQL queries through python.\n",
    "#execute method is used to execute SQL queries in python."
   ]
  },
  {
   "cell_type": "code",
   "execution_count": null,
   "id": "0213f346",
   "metadata": {},
   "outputs": [],
   "source": [
    "#Q7\n",
    "#FROM- WHERE - GROUP BY - SELECT - ORDER BY"
   ]
  }
 ],
 "metadata": {
  "kernelspec": {
   "display_name": "Python 3 (ipykernel)",
   "language": "python",
   "name": "python3"
  },
  "language_info": {
   "codemirror_mode": {
    "name": "ipython",
    "version": 3
   },
   "file_extension": ".py",
   "mimetype": "text/x-python",
   "name": "python",
   "nbconvert_exporter": "python",
   "pygments_lexer": "ipython3",
   "version": "3.9.13"
  }
 },
 "nbformat": 4,
 "nbformat_minor": 5
}
